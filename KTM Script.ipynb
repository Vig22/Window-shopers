{
 "cells": [
  {
   "cell_type": "code",
   "execution_count": 3,
   "metadata": {},
   "outputs": [],
   "source": [
    "import pandas as pd\n",
    "import numpy as np\n",
    "import matplotlib.pyplot as plt\n",
    "import seaborn as sns\n",
    "from sklearn.model_selection import train_test_split\n",
    "from sklearn.linear_model import LogisticRegression\n",
    "from sklearn.metrics import classification_report, confusion_matrix\n",
    "from sklearn.metrics import accuracy_score\n",
    "from sklearn.tree import DecisionTreeClassifier   \n",
    "from sklearn.ensemble import RandomForestClassifier"
   ]
  },
  {
   "cell_type": "code",
   "execution_count": 4,
   "metadata": {},
   "outputs": [],
   "source": [
    "df=pd.read_excel(\"KTM.xlsx\")"
   ]
  },
  {
   "cell_type": "code",
   "execution_count": 5,
   "metadata": {},
   "outputs": [
    {
     "data": {
      "text/html": [
       "<div>\n",
       "<style scoped>\n",
       "    .dataframe tbody tr th:only-of-type {\n",
       "        vertical-align: middle;\n",
       "    }\n",
       "\n",
       "    .dataframe tbody tr th {\n",
       "        vertical-align: top;\n",
       "    }\n",
       "\n",
       "    .dataframe thead th {\n",
       "        text-align: right;\n",
       "    }\n",
       "</style>\n",
       "<table border=\"1\" class=\"dataframe\">\n",
       "  <thead>\n",
       "    <tr style=\"text-align: right;\">\n",
       "      <th></th>\n",
       "      <th>ID</th>\n",
       "      <th>Age</th>\n",
       "      <th>Gender</th>\n",
       "      <th>Occupation</th>\n",
       "      <th>Phone Type</th>\n",
       "      <th>Current Bike</th>\n",
       "      <th>Relationship</th>\n",
       "      <th>Response</th>\n",
       "    </tr>\n",
       "  </thead>\n",
       "  <tbody>\n",
       "    <tr>\n",
       "      <th>0</th>\n",
       "      <td>1</td>\n",
       "      <td>53</td>\n",
       "      <td>Male</td>\n",
       "      <td>Professional</td>\n",
       "      <td>Average</td>\n",
       "      <td>180 to 220</td>\n",
       "      <td>Complicated</td>\n",
       "      <td>Not purchased</td>\n",
       "    </tr>\n",
       "    <tr>\n",
       "      <th>1</th>\n",
       "      <td>2</td>\n",
       "      <td>27</td>\n",
       "      <td>Female</td>\n",
       "      <td>Self Employed</td>\n",
       "      <td>Low End</td>\n",
       "      <td>No Bike</td>\n",
       "      <td>Single</td>\n",
       "      <td>Purchased</td>\n",
       "    </tr>\n",
       "    <tr>\n",
       "      <th>2</th>\n",
       "      <td>3</td>\n",
       "      <td>39</td>\n",
       "      <td>Female</td>\n",
       "      <td>Unemployed</td>\n",
       "      <td>Average</td>\n",
       "      <td>180 to 220</td>\n",
       "      <td>Married</td>\n",
       "      <td>Not purchased</td>\n",
       "    </tr>\n",
       "    <tr>\n",
       "      <th>3</th>\n",
       "      <td>4</td>\n",
       "      <td>20</td>\n",
       "      <td>Female</td>\n",
       "      <td>Unemployed</td>\n",
       "      <td>High End</td>\n",
       "      <td>No Bike</td>\n",
       "      <td>Married</td>\n",
       "      <td>Not purchased</td>\n",
       "    </tr>\n",
       "    <tr>\n",
       "      <th>4</th>\n",
       "      <td>5</td>\n",
       "      <td>29</td>\n",
       "      <td>Male</td>\n",
       "      <td>Student</td>\n",
       "      <td>Average</td>\n",
       "      <td>180 to 220</td>\n",
       "      <td>Complicated</td>\n",
       "      <td>Purchased</td>\n",
       "    </tr>\n",
       "  </tbody>\n",
       "</table>\n",
       "</div>"
      ],
      "text/plain": [
       "   ID  Age  Gender     Occupation Phone Type Current Bike Relationship  \\\n",
       "0   1   53   Male    Professional    Average   180 to 220  Complicated   \n",
       "1   2   27  Female  Self Employed    Low End      No Bike       Single   \n",
       "2   3   39  Female     Unemployed    Average   180 to 220      Married   \n",
       "3   4   20  Female     Unemployed   High End      No Bike      Married   \n",
       "4   5   29   Male         Student    Average   180 to 220  Complicated   \n",
       "\n",
       "        Response  \n",
       "0  Not purchased  \n",
       "1      Purchased  \n",
       "2  Not purchased  \n",
       "3  Not purchased  \n",
       "4      Purchased  "
      ]
     },
     "execution_count": 5,
     "metadata": {},
     "output_type": "execute_result"
    }
   ],
   "source": [
    "df.head()"
   ]
  },
  {
   "cell_type": "code",
   "execution_count": 6,
   "metadata": {},
   "outputs": [
    {
     "data": {
      "text/plain": [
       "(1518, 8)"
      ]
     },
     "execution_count": 6,
     "metadata": {},
     "output_type": "execute_result"
    }
   ],
   "source": [
    "df.shape"
   ]
  },
  {
   "cell_type": "code",
   "execution_count": 7,
   "metadata": {},
   "outputs": [
    {
     "data": {
      "text/html": [
       "<div>\n",
       "<style scoped>\n",
       "    .dataframe tbody tr th:only-of-type {\n",
       "        vertical-align: middle;\n",
       "    }\n",
       "\n",
       "    .dataframe tbody tr th {\n",
       "        vertical-align: top;\n",
       "    }\n",
       "\n",
       "    .dataframe thead th {\n",
       "        text-align: right;\n",
       "    }\n",
       "</style>\n",
       "<table border=\"1\" class=\"dataframe\">\n",
       "  <thead>\n",
       "    <tr style=\"text-align: right;\">\n",
       "      <th></th>\n",
       "      <th>ID</th>\n",
       "      <th>Age</th>\n",
       "    </tr>\n",
       "  </thead>\n",
       "  <tbody>\n",
       "    <tr>\n",
       "      <th>count</th>\n",
       "      <td>1518.000000</td>\n",
       "      <td>1518.000000</td>\n",
       "    </tr>\n",
       "    <tr>\n",
       "      <th>mean</th>\n",
       "      <td>759.500000</td>\n",
       "      <td>32.731225</td>\n",
       "    </tr>\n",
       "    <tr>\n",
       "      <th>std</th>\n",
       "      <td>438.353168</td>\n",
       "      <td>13.258555</td>\n",
       "    </tr>\n",
       "    <tr>\n",
       "      <th>min</th>\n",
       "      <td>1.000000</td>\n",
       "      <td>18.000000</td>\n",
       "    </tr>\n",
       "    <tr>\n",
       "      <th>25%</th>\n",
       "      <td>380.250000</td>\n",
       "      <td>22.000000</td>\n",
       "    </tr>\n",
       "    <tr>\n",
       "      <th>50%</th>\n",
       "      <td>759.500000</td>\n",
       "      <td>28.000000</td>\n",
       "    </tr>\n",
       "    <tr>\n",
       "      <th>75%</th>\n",
       "      <td>1138.750000</td>\n",
       "      <td>44.000000</td>\n",
       "    </tr>\n",
       "    <tr>\n",
       "      <th>max</th>\n",
       "      <td>1518.000000</td>\n",
       "      <td>60.000000</td>\n",
       "    </tr>\n",
       "  </tbody>\n",
       "</table>\n",
       "</div>"
      ],
      "text/plain": [
       "                ID          Age\n",
       "count  1518.000000  1518.000000\n",
       "mean    759.500000    32.731225\n",
       "std     438.353168    13.258555\n",
       "min       1.000000    18.000000\n",
       "25%     380.250000    22.000000\n",
       "50%     759.500000    28.000000\n",
       "75%    1138.750000    44.000000\n",
       "max    1518.000000    60.000000"
      ]
     },
     "execution_count": 7,
     "metadata": {},
     "output_type": "execute_result"
    }
   ],
   "source": [
    "df.describe()"
   ]
  },
  {
   "cell_type": "code",
   "execution_count": 8,
   "metadata": {},
   "outputs": [
    {
     "data": {
      "text/html": [
       "<div>\n",
       "<style scoped>\n",
       "    .dataframe tbody tr th:only-of-type {\n",
       "        vertical-align: middle;\n",
       "    }\n",
       "\n",
       "    .dataframe tbody tr th {\n",
       "        vertical-align: top;\n",
       "    }\n",
       "\n",
       "    .dataframe thead th {\n",
       "        text-align: right;\n",
       "    }\n",
       "</style>\n",
       "<table border=\"1\" class=\"dataframe\">\n",
       "  <thead>\n",
       "    <tr style=\"text-align: right;\">\n",
       "      <th></th>\n",
       "      <th>Gender</th>\n",
       "      <th>Occupation</th>\n",
       "      <th>Phone Type</th>\n",
       "      <th>Current Bike</th>\n",
       "      <th>Relationship</th>\n",
       "      <th>Response</th>\n",
       "    </tr>\n",
       "  </thead>\n",
       "  <tbody>\n",
       "    <tr>\n",
       "      <th>count</th>\n",
       "      <td>1518</td>\n",
       "      <td>1518</td>\n",
       "      <td>1518</td>\n",
       "      <td>1518</td>\n",
       "      <td>1518</td>\n",
       "      <td>1518</td>\n",
       "    </tr>\n",
       "    <tr>\n",
       "      <th>unique</th>\n",
       "      <td>2</td>\n",
       "      <td>4</td>\n",
       "      <td>3</td>\n",
       "      <td>5</td>\n",
       "      <td>4</td>\n",
       "      <td>2</td>\n",
       "    </tr>\n",
       "    <tr>\n",
       "      <th>top</th>\n",
       "      <td>Female</td>\n",
       "      <td>Student</td>\n",
       "      <td>High End</td>\n",
       "      <td>180 to 220</td>\n",
       "      <td>Single</td>\n",
       "      <td>Purchased</td>\n",
       "    </tr>\n",
       "    <tr>\n",
       "      <th>freq</th>\n",
       "      <td>816</td>\n",
       "      <td>686</td>\n",
       "      <td>836</td>\n",
       "      <td>420</td>\n",
       "      <td>490</td>\n",
       "      <td>872</td>\n",
       "    </tr>\n",
       "  </tbody>\n",
       "</table>\n",
       "</div>"
      ],
      "text/plain": [
       "        Gender Occupation Phone Type Current Bike Relationship   Response\n",
       "count     1518       1518       1518         1518         1518       1518\n",
       "unique       2          4          3            5            4          2\n",
       "top     Female    Student   High End   180 to 220       Single  Purchased\n",
       "freq       816        686        836          420          490        872"
      ]
     },
     "execution_count": 8,
     "metadata": {},
     "output_type": "execute_result"
    }
   ],
   "source": [
    "df.describe(include=['object'])  ### information of the categorical data"
   ]
  },
  {
   "cell_type": "code",
   "execution_count": 9,
   "metadata": {},
   "outputs": [
    {
     "name": "stdout",
     "output_type": "stream",
     "text": [
      "<class 'pandas.core.frame.DataFrame'>\n",
      "RangeIndex: 1518 entries, 0 to 1517\n",
      "Data columns (total 8 columns):\n",
      "ID              1518 non-null int64\n",
      "Age             1518 non-null int64\n",
      "Gender          1518 non-null object\n",
      "Occupation      1518 non-null object\n",
      "Phone Type      1518 non-null object\n",
      "Current Bike    1518 non-null object\n",
      "Relationship    1518 non-null object\n",
      "Response        1518 non-null object\n",
      "dtypes: int64(2), object(6)\n",
      "memory usage: 95.0+ KB\n"
     ]
    }
   ],
   "source": [
    "df.info()"
   ]
  },
  {
   "cell_type": "code",
   "execution_count": 10,
   "metadata": {},
   "outputs": [
    {
     "data": {
      "text/plain": [
       "ID              0\n",
       "Age             0\n",
       "Gender          0\n",
       "Occupation      0\n",
       "Phone Type      0\n",
       "Current Bike    0\n",
       "Relationship    0\n",
       "Response        0\n",
       "dtype: int64"
      ]
     },
     "execution_count": 10,
     "metadata": {},
     "output_type": "execute_result"
    }
   ],
   "source": [
    "df.isnull().sum()"
   ]
  },
  {
   "cell_type": "code",
   "execution_count": 11,
   "metadata": {},
   "outputs": [
    {
     "data": {
      "text/html": [
       "<div>\n",
       "<style scoped>\n",
       "    .dataframe tbody tr th:only-of-type {\n",
       "        vertical-align: middle;\n",
       "    }\n",
       "\n",
       "    .dataframe tbody tr th {\n",
       "        vertical-align: top;\n",
       "    }\n",
       "\n",
       "    .dataframe thead th {\n",
       "        text-align: right;\n",
       "    }\n",
       "</style>\n",
       "<table border=\"1\" class=\"dataframe\">\n",
       "  <thead>\n",
       "    <tr style=\"text-align: right;\">\n",
       "      <th></th>\n",
       "      <th>ID</th>\n",
       "      <th>Age</th>\n",
       "      <th>Gender</th>\n",
       "      <th>Occupation</th>\n",
       "      <th>Phone Type</th>\n",
       "      <th>Current Bike</th>\n",
       "      <th>Relationship</th>\n",
       "      <th>Response</th>\n",
       "    </tr>\n",
       "  </thead>\n",
       "  <tbody>\n",
       "    <tr>\n",
       "      <th>0</th>\n",
       "      <td>1</td>\n",
       "      <td>53</td>\n",
       "      <td>1</td>\n",
       "      <td>0</td>\n",
       "      <td>0</td>\n",
       "      <td>1</td>\n",
       "      <td>1</td>\n",
       "      <td>0</td>\n",
       "    </tr>\n",
       "    <tr>\n",
       "      <th>1</th>\n",
       "      <td>2</td>\n",
       "      <td>27</td>\n",
       "      <td>0</td>\n",
       "      <td>1</td>\n",
       "      <td>2</td>\n",
       "      <td>4</td>\n",
       "      <td>3</td>\n",
       "      <td>1</td>\n",
       "    </tr>\n",
       "    <tr>\n",
       "      <th>2</th>\n",
       "      <td>3</td>\n",
       "      <td>39</td>\n",
       "      <td>0</td>\n",
       "      <td>3</td>\n",
       "      <td>0</td>\n",
       "      <td>1</td>\n",
       "      <td>2</td>\n",
       "      <td>0</td>\n",
       "    </tr>\n",
       "    <tr>\n",
       "      <th>3</th>\n",
       "      <td>4</td>\n",
       "      <td>20</td>\n",
       "      <td>0</td>\n",
       "      <td>3</td>\n",
       "      <td>1</td>\n",
       "      <td>4</td>\n",
       "      <td>2</td>\n",
       "      <td>0</td>\n",
       "    </tr>\n",
       "    <tr>\n",
       "      <th>4</th>\n",
       "      <td>5</td>\n",
       "      <td>29</td>\n",
       "      <td>1</td>\n",
       "      <td>2</td>\n",
       "      <td>0</td>\n",
       "      <td>1</td>\n",
       "      <td>1</td>\n",
       "      <td>1</td>\n",
       "    </tr>\n",
       "  </tbody>\n",
       "</table>\n",
       "</div>"
      ],
      "text/plain": [
       "   ID  Age  Gender  Occupation  Phone Type  Current Bike  Relationship  \\\n",
       "0   1   53       1           0           0             1             1   \n",
       "1   2   27       0           1           2             4             3   \n",
       "2   3   39       0           3           0             1             2   \n",
       "3   4   20       0           3           1             4             2   \n",
       "4   5   29       1           2           0             1             1   \n",
       "\n",
       "   Response  \n",
       "0         0  \n",
       "1         1  \n",
       "2         0  \n",
       "3         0  \n",
       "4         1  "
      ]
     },
     "execution_count": 11,
     "metadata": {},
     "output_type": "execute_result"
    }
   ],
   "source": [
    "from sklearn.preprocessing import LabelEncoder\n",
    "Number = LabelEncoder()   \n",
    "df['Gender'] = Number.fit_transform(df['Gender'].astype('str'))\n",
    "df['Occupation'] = Number.fit_transform(df['Occupation'].astype('str'))\n",
    "df['Phone Type'] = Number.fit_transform(df['Phone Type'].astype('str'))\n",
    "df['Current Bike'] = Number.fit_transform(df['Current Bike'].astype('str'))\n",
    "df['Relationship'] = Number.fit_transform(df['Relationship'].astype('str'))\n",
    "df['Response'] = Number.fit_transform(df['Response'].astype('str'))\n",
    "df.head()"
   ]
  },
  {
   "cell_type": "code",
   "execution_count": 12,
   "metadata": {},
   "outputs": [],
   "source": [
    "del df['ID']"
   ]
  },
  {
   "cell_type": "markdown",
   "metadata": {},
   "source": [
    "# Visualization"
   ]
  },
  {
   "cell_type": "markdown",
   "metadata": {},
   "source": [
    "## Distribution Plot"
   ]
  },
  {
   "cell_type": "code",
   "execution_count": 13,
   "metadata": {},
   "outputs": [
    {
     "data": {
      "image/png": "[encoded data removed]",
      "text/plain": [
       "<Figure size 1440x1440 with 9 Axes>"
      ]
     },
     "metadata": {
      "needs_background": "light"
     },
     "output_type": "display_data"
    }
   ],
   "source": [
    "df.hist(bins=10, figsize=(20,20))\n",
    "plt.show()"
   ]
  },
  {
   "cell_type": "markdown",
   "metadata": {},
   "source": [
    "# Correlation"
   ]
  },
  {
   "cell_type": "code",
   "execution_count": 14,
   "metadata": {},
   "outputs": [
    {
     "data": {
      "text/html": [
       "<style  type=\"text/css\" >\n",
       "    #T_a784e048_f29c_11e9_8785_3859f9ebb94drow0_col0 {\n",
       "            background-color:  #b40426;\n",
       "            color:  #f1f1f1;\n",
       "        }    #T_a784e048_f29c_11e9_8785_3859f9ebb94drow0_col1 {\n",
       "            background-color:  #7b9ff9;\n",
       "            color:  #000000;\n",
       "        }    #T_a784e048_f29c_11e9_8785_3859f9ebb94drow0_col2 {\n",
       "            background-color:  #3b4cc0;\n",
       "            color:  #f1f1f1;\n",
       "        }    #T_a784e048_f29c_11e9_8785_3859f9ebb94drow0_col3 {\n",
       "            background-color:  #445acc;\n",
       "            color:  #f1f1f1;\n",
       "        }    #T_a784e048_f29c_11e9_8785_3859f9ebb94drow0_col4 {\n",
       "            background-color:  #9abbff;\n",
       "            color:  #000000;\n",
       "        }    #T_a784e048_f29c_11e9_8785_3859f9ebb94drow0_col5 {\n",
       "            background-color:  #6687ed;\n",
       "            color:  #000000;\n",
       "        }    #T_a784e048_f29c_11e9_8785_3859f9ebb94drow0_col6 {\n",
       "            background-color:  #3b4cc0;\n",
       "            color:  #f1f1f1;\n",
       "        }    #T_a784e048_f29c_11e9_8785_3859f9ebb94drow1_col0 {\n",
       "            background-color:  #b5cdfa;\n",
       "            color:  #000000;\n",
       "        }    #T_a784e048_f29c_11e9_8785_3859f9ebb94drow1_col1 {\n",
       "            background-color:  #b40426;\n",
       "            color:  #f1f1f1;\n",
       "        }    #T_a784e048_f29c_11e9_8785_3859f9ebb94drow1_col2 {\n",
       "            background-color:  #6a8bef;\n",
       "            color:  #000000;\n",
       "        }    #T_a784e048_f29c_11e9_8785_3859f9ebb94drow1_col3 {\n",
       "            background-color:  #4257c9;\n",
       "            color:  #f1f1f1;\n",
       "        }    #T_a784e048_f29c_11e9_8785_3859f9ebb94drow1_col4 {\n",
       "            background-color:  #7da0f9;\n",
       "            color:  #000000;\n",
       "        }    #T_a784e048_f29c_11e9_8785_3859f9ebb94drow1_col5 {\n",
       "            background-color:  #3b4cc0;\n",
       "            color:  #f1f1f1;\n",
       "        }    #T_a784e048_f29c_11e9_8785_3859f9ebb94drow1_col6 {\n",
       "            background-color:  #bfd3f6;\n",
       "            color:  #000000;\n",
       "        }    #T_a784e048_f29c_11e9_8785_3859f9ebb94drow2_col0 {\n",
       "            background-color:  #80a3fa;\n",
       "            color:  #000000;\n",
       "        }    #T_a784e048_f29c_11e9_8785_3859f9ebb94drow2_col1 {\n",
       "            background-color:  #6c8ff1;\n",
       "            color:  #000000;\n",
       "        }    #T_a784e048_f29c_11e9_8785_3859f9ebb94drow2_col2 {\n",
       "            background-color:  #b40426;\n",
       "            color:  #f1f1f1;\n",
       "        }    #T_a784e048_f29c_11e9_8785_3859f9ebb94drow2_col3 {\n",
       "            background-color:  #4f69d9;\n",
       "            color:  #000000;\n",
       "        }    #T_a784e048_f29c_11e9_8785_3859f9ebb94drow2_col4 {\n",
       "            background-color:  #4f69d9;\n",
       "            color:  #000000;\n",
       "        }    #T_a784e048_f29c_11e9_8785_3859f9ebb94drow2_col5 {\n",
       "            background-color:  #88abfd;\n",
       "            color:  #000000;\n",
       "        }    #T_a784e048_f29c_11e9_8785_3859f9ebb94drow2_col6 {\n",
       "            background-color:  #d7dce3;\n",
       "            color:  #000000;\n",
       "        }    #T_a784e048_f29c_11e9_8785_3859f9ebb94drow3_col0 {\n",
       "            background-color:  #aec9fc;\n",
       "            color:  #000000;\n",
       "        }    #T_a784e048_f29c_11e9_8785_3859f9ebb94drow3_col1 {\n",
       "            background-color:  #7295f4;\n",
       "            color:  #000000;\n",
       "        }    #T_a784e048_f29c_11e9_8785_3859f9ebb94drow3_col2 {\n",
       "            background-color:  #7a9df8;\n",
       "            color:  #000000;\n",
       "        }    #T_a784e048_f29c_11e9_8785_3859f9ebb94drow3_col3 {\n",
       "            background-color:  #b40426;\n",
       "            color:  #f1f1f1;\n",
       "        }    #T_a784e048_f29c_11e9_8785_3859f9ebb94drow3_col4 {\n",
       "            background-color:  #5d7ce6;\n",
       "            color:  #000000;\n",
       "        }    #T_a784e048_f29c_11e9_8785_3859f9ebb94drow3_col5 {\n",
       "            background-color:  #7da0f9;\n",
       "            color:  #000000;\n",
       "        }    #T_a784e048_f29c_11e9_8785_3859f9ebb94drow3_col6 {\n",
       "            background-color:  #afcafc;\n",
       "            color:  #000000;\n",
       "        }    #T_a784e048_f29c_11e9_8785_3859f9ebb94drow4_col0 {\n",
       "            background-color:  #d2dbe8;\n",
       "            color:  #000000;\n",
       "        }    #T_a784e048_f29c_11e9_8785_3859f9ebb94drow4_col1 {\n",
       "            background-color:  #8badfd;\n",
       "            color:  #000000;\n",
       "        }    #T_a784e048_f29c_11e9_8785_3859f9ebb94drow4_col2 {\n",
       "            background-color:  #5977e3;\n",
       "            color:  #000000;\n",
       "        }    #T_a784e048_f29c_11e9_8785_3859f9ebb94drow4_col3 {\n",
       "            background-color:  #3b4cc0;\n",
       "            color:  #f1f1f1;\n",
       "        }    #T_a784e048_f29c_11e9_8785_3859f9ebb94drow4_col4 {\n",
       "            background-color:  #b40426;\n",
       "            color:  #f1f1f1;\n",
       "        }    #T_a784e048_f29c_11e9_8785_3859f9ebb94drow4_col5 {\n",
       "            background-color:  #7597f6;\n",
       "            color:  #000000;\n",
       "        }    #T_a784e048_f29c_11e9_8785_3859f9ebb94drow4_col6 {\n",
       "            background-color:  #89acfd;\n",
       "            color:  #000000;\n",
       "        }    #T_a784e048_f29c_11e9_8785_3859f9ebb94drow5_col0 {\n",
       "            background-color:  #a3c2fe;\n",
       "            color:  #000000;\n",
       "        }    #T_a784e048_f29c_11e9_8785_3859f9ebb94drow5_col1 {\n",
       "            background-color:  #3b4cc0;\n",
       "            color:  #f1f1f1;\n",
       "        }    #T_a784e048_f29c_11e9_8785_3859f9ebb94drow5_col2 {\n",
       "            background-color:  #84a7fc;\n",
       "            color:  #000000;\n",
       "        }    #T_a784e048_f29c_11e9_8785_3859f9ebb94drow5_col3 {\n",
       "            background-color:  #4e68d8;\n",
       "            color:  #000000;\n",
       "        }    #T_a784e048_f29c_11e9_8785_3859f9ebb94drow5_col4 {\n",
       "            background-color:  #6788ee;\n",
       "            color:  #000000;\n",
       "        }    #T_a784e048_f29c_11e9_8785_3859f9ebb94drow5_col5 {\n",
       "            background-color:  #b40426;\n",
       "            color:  #f1f1f1;\n",
       "        }    #T_a784e048_f29c_11e9_8785_3859f9ebb94drow5_col6 {\n",
       "            background-color:  #bfd3f6;\n",
       "            color:  #000000;\n",
       "        }    #T_a784e048_f29c_11e9_8785_3859f9ebb94drow6_col0 {\n",
       "            background-color:  #3b4cc0;\n",
       "            color:  #f1f1f1;\n",
       "        }    #T_a784e048_f29c_11e9_8785_3859f9ebb94drow6_col1 {\n",
       "            background-color:  #8badfd;\n",
       "            color:  #000000;\n",
       "        }    #T_a784e048_f29c_11e9_8785_3859f9ebb94drow6_col2 {\n",
       "            background-color:  #abc8fd;\n",
       "            color:  #000000;\n",
       "        }    #T_a784e048_f29c_11e9_8785_3859f9ebb94drow6_col3 {\n",
       "            background-color:  #455cce;\n",
       "            color:  #f1f1f1;\n",
       "        }    #T_a784e048_f29c_11e9_8785_3859f9ebb94drow6_col4 {\n",
       "            background-color:  #3b4cc0;\n",
       "            color:  #f1f1f1;\n",
       "        }    #T_a784e048_f29c_11e9_8785_3859f9ebb94drow6_col5 {\n",
       "            background-color:  #8badfd;\n",
       "            color:  #000000;\n",
       "        }    #T_a784e048_f29c_11e9_8785_3859f9ebb94drow6_col6 {\n",
       "            background-color:  #b40426;\n",
       "            color:  #f1f1f1;\n",
       "        }</style><table id=\"T_a784e048_f29c_11e9_8785_3859f9ebb94d\" ><thead>    <tr>        <th class=\"blank level0\" ></th>        <th class=\"col_heading level0 col0\" >Age</th>        <th class=\"col_heading level0 col1\" >Gender</th>        <th class=\"col_heading level0 col2\" >Occupation</th>        <th class=\"col_heading level0 col3\" >Phone Type</th>        <th class=\"col_heading level0 col4\" >Current Bike</th>        <th class=\"col_heading level0 col5\" >Relationship</th>        <th class=\"col_heading level0 col6\" >Response</th>    </tr></thead><tbody>\n",
       "                <tr>\n",
       "                        <th id=\"T_a784e048_f29c_11e9_8785_3859f9ebb94dlevel0_row0\" class=\"row_heading level0 row0\" >Age</th>\n",
       "                        <td id=\"T_a784e048_f29c_11e9_8785_3859f9ebb94drow0_col0\" class=\"data row0 col0\" >1</td>\n",
       "                        <td id=\"T_a784e048_f29c_11e9_8785_3859f9ebb94drow0_col1\" class=\"data row0 col1\" >0.0132263</td>\n",
       "                        <td id=\"T_a784e048_f29c_11e9_8785_3859f9ebb94drow0_col2\" class=\"data row0 col2\" >-0.221953</td>\n",
       "                        <td id=\"T_a784e048_f29c_11e9_8785_3859f9ebb94drow0_col3\" class=\"data row0 col3\" >-0.0134901</td>\n",
       "                        <td id=\"T_a784e048_f29c_11e9_8785_3859f9ebb94drow0_col4\" class=\"data row0 col4\" >0.158903</td>\n",
       "                        <td id=\"T_a784e048_f29c_11e9_8785_3859f9ebb94drow0_col5\" class=\"data row0 col5\" >-0.0661028</td>\n",
       "                        <td id=\"T_a784e048_f29c_11e9_8785_3859f9ebb94drow0_col6\" class=\"data row0 col6\" >-0.552044</td>\n",
       "            </tr>\n",
       "            <tr>\n",
       "                        <th id=\"T_a784e048_f29c_11e9_8785_3859f9ebb94dlevel0_row1\" class=\"row_heading level0 row1\" >Gender</th>\n",
       "                        <td id=\"T_a784e048_f29c_11e9_8785_3859f9ebb94drow1_col0\" class=\"data row1 col0\" >0.0132263</td>\n",
       "                        <td id=\"T_a784e048_f29c_11e9_8785_3859f9ebb94drow1_col1\" class=\"data row1 col1\" >1</td>\n",
       "                        <td id=\"T_a784e048_f29c_11e9_8785_3859f9ebb94drow1_col2\" class=\"data row1 col2\" >-0.0396162</td>\n",
       "                        <td id=\"T_a784e048_f29c_11e9_8785_3859f9ebb94drow1_col3\" class=\"data row1 col3\" >-0.0213873</td>\n",
       "                        <td id=\"T_a784e048_f29c_11e9_8785_3859f9ebb94drow1_col4\" class=\"data row1 col4\" >0.0623806</td>\n",
       "                        <td id=\"T_a784e048_f29c_11e9_8785_3859f9ebb94drow1_col5\" class=\"data row1 col5\" >-0.237318</td>\n",
       "                        <td id=\"T_a784e048_f29c_11e9_8785_3859f9ebb94drow1_col6\" class=\"data row1 col6\" >0.0634484</td>\n",
       "            </tr>\n",
       "            <tr>\n",
       "                        <th id=\"T_a784e048_f29c_11e9_8785_3859f9ebb94dlevel0_row2\" class=\"row_heading level0 row2\" >Occupation</th>\n",
       "                        <td id=\"T_a784e048_f29c_11e9_8785_3859f9ebb94drow2_col0\" class=\"data row2 col0\" >-0.221953</td>\n",
       "                        <td id=\"T_a784e048_f29c_11e9_8785_3859f9ebb94drow2_col1\" class=\"data row2 col1\" >-0.0396162</td>\n",
       "                        <td id=\"T_a784e048_f29c_11e9_8785_3859f9ebb94drow2_col2\" class=\"data row2 col2\" >1</td>\n",
       "                        <td id=\"T_a784e048_f29c_11e9_8785_3859f9ebb94drow2_col3\" class=\"data row2 col3\" >0.0207435</td>\n",
       "                        <td id=\"T_a784e048_f29c_11e9_8785_3859f9ebb94drow2_col4\" class=\"data row2 col4\" >-0.100438</td>\n",
       "                        <td id=\"T_a784e048_f29c_11e9_8785_3859f9ebb94drow2_col5\" class=\"data row2 col5\" >0.0543864</td>\n",
       "                        <td id=\"T_a784e048_f29c_11e9_8785_3859f9ebb94drow2_col6\" class=\"data row2 col6\" >0.190147</td>\n",
       "            </tr>\n",
       "            <tr>\n",
       "                        <th id=\"T_a784e048_f29c_11e9_8785_3859f9ebb94dlevel0_row3\" class=\"row_heading level0 row3\" >Phone Type</th>\n",
       "                        <td id=\"T_a784e048_f29c_11e9_8785_3859f9ebb94drow3_col0\" class=\"data row3 col0\" >-0.0134901</td>\n",
       "                        <td id=\"T_a784e048_f29c_11e9_8785_3859f9ebb94drow3_col1\" class=\"data row3 col1\" >-0.0213873</td>\n",
       "                        <td id=\"T_a784e048_f29c_11e9_8785_3859f9ebb94drow3_col2\" class=\"data row3 col2\" >0.0207435</td>\n",
       "                        <td id=\"T_a784e048_f29c_11e9_8785_3859f9ebb94drow3_col3\" class=\"data row3 col3\" >1</td>\n",
       "                        <td id=\"T_a784e048_f29c_11e9_8785_3859f9ebb94drow3_col4\" class=\"data row3 col4\" >-0.0489859</td>\n",
       "                        <td id=\"T_a784e048_f29c_11e9_8785_3859f9ebb94drow3_col5\" class=\"data row3 col5\" >0.0184053</td>\n",
       "                        <td id=\"T_a784e048_f29c_11e9_8785_3859f9ebb94drow3_col6\" class=\"data row3 col6\" >-0.0105309</td>\n",
       "            </tr>\n",
       "            <tr>\n",
       "                        <th id=\"T_a784e048_f29c_11e9_8785_3859f9ebb94dlevel0_row4\" class=\"row_heading level0 row4\" >Current Bike</th>\n",
       "                        <td id=\"T_a784e048_f29c_11e9_8785_3859f9ebb94drow4_col0\" class=\"data row4 col0\" >0.158903</td>\n",
       "                        <td id=\"T_a784e048_f29c_11e9_8785_3859f9ebb94drow4_col1\" class=\"data row4 col1\" >0.0623806</td>\n",
       "                        <td id=\"T_a784e048_f29c_11e9_8785_3859f9ebb94drow4_col2\" class=\"data row4 col2\" >-0.100438</td>\n",
       "                        <td id=\"T_a784e048_f29c_11e9_8785_3859f9ebb94drow4_col3\" class=\"data row4 col3\" >-0.0489859</td>\n",
       "                        <td id=\"T_a784e048_f29c_11e9_8785_3859f9ebb94drow4_col4\" class=\"data row4 col4\" >1</td>\n",
       "                        <td id=\"T_a784e048_f29c_11e9_8785_3859f9ebb94drow4_col5\" class=\"data row4 col5\" >-0.0105274</td>\n",
       "                        <td id=\"T_a784e048_f29c_11e9_8785_3859f9ebb94drow4_col6\" class=\"data row4 col6\" >-0.178909</td>\n",
       "            </tr>\n",
       "            <tr>\n",
       "                        <th id=\"T_a784e048_f29c_11e9_8785_3859f9ebb94dlevel0_row5\" class=\"row_heading level0 row5\" >Relationship</th>\n",
       "                        <td id=\"T_a784e048_f29c_11e9_8785_3859f9ebb94drow5_col0\" class=\"data row5 col0\" >-0.0661028</td>\n",
       "                        <td id=\"T_a784e048_f29c_11e9_8785_3859f9ebb94drow5_col1\" class=\"data row5 col1\" >-0.237318</td>\n",
       "                        <td id=\"T_a784e048_f29c_11e9_8785_3859f9ebb94drow5_col2\" class=\"data row5 col2\" >0.0543864</td>\n",
       "                        <td id=\"T_a784e048_f29c_11e9_8785_3859f9ebb94drow5_col3\" class=\"data row5 col3\" >0.0184053</td>\n",
       "                        <td id=\"T_a784e048_f29c_11e9_8785_3859f9ebb94drow5_col4\" class=\"data row5 col4\" >-0.0105274</td>\n",
       "                        <td id=\"T_a784e048_f29c_11e9_8785_3859f9ebb94drow5_col5\" class=\"data row5 col5\" >1</td>\n",
       "                        <td id=\"T_a784e048_f29c_11e9_8785_3859f9ebb94drow5_col6\" class=\"data row5 col6\" >0.0655469</td>\n",
       "            </tr>\n",
       "            <tr>\n",
       "                        <th id=\"T_a784e048_f29c_11e9_8785_3859f9ebb94dlevel0_row6\" class=\"row_heading level0 row6\" >Response</th>\n",
       "                        <td id=\"T_a784e048_f29c_11e9_8785_3859f9ebb94drow6_col0\" class=\"data row6 col0\" >-0.552044</td>\n",
       "                        <td id=\"T_a784e048_f29c_11e9_8785_3859f9ebb94drow6_col1\" class=\"data row6 col1\" >0.0634484</td>\n",
       "                        <td id=\"T_a784e048_f29c_11e9_8785_3859f9ebb94drow6_col2\" class=\"data row6 col2\" >0.190147</td>\n",
       "                        <td id=\"T_a784e048_f29c_11e9_8785_3859f9ebb94drow6_col3\" class=\"data row6 col3\" >-0.0105309</td>\n",
       "                        <td id=\"T_a784e048_f29c_11e9_8785_3859f9ebb94drow6_col4\" class=\"data row6 col4\" >-0.178909</td>\n",
       "                        <td id=\"T_a784e048_f29c_11e9_8785_3859f9ebb94drow6_col5\" class=\"data row6 col5\" >0.0655469</td>\n",
       "                        <td id=\"T_a784e048_f29c_11e9_8785_3859f9ebb94drow6_col6\" class=\"data row6 col6\" >1</td>\n",
       "            </tr>\n",
       "    </tbody></table>"
      ],
      "text/plain": [
       "<pandas.io.formats.style.Styler at 0x26916242e10>"
      ]
     },
     "execution_count": 14,
     "metadata": {},
     "output_type": "execute_result"
    }
   ],
   "source": [
    "corr = df.corr()\n",
    "corr.style.background_gradient(cmap='coolwarm')"
   ]
  },
  {
   "cell_type": "markdown",
   "metadata": {},
   "source": [
    "# Split into Train & Test"
   ]
  },
  {
   "cell_type": "code",
   "execution_count": 15,
   "metadata": {},
   "outputs": [],
   "source": [
    "X = df.iloc[:,:-1].values\n",
    "Y = df[['Response']].values\n",
    "\n",
    "# Splitting the dataset into the Training set and test set\n",
    "X_train, X_test, Y_train, Y_test = train_test_split(X, Y, test_size= 0.2, random_state = 0)"
   ]
  },
  {
   "cell_type": "markdown",
   "metadata": {},
   "source": [
    "# Logistic Regression"
   ]
  },
  {
   "cell_type": "code",
   "execution_count": 16,
   "metadata": {},
   "outputs": [
    {
     "name": "stderr",
     "output_type": "stream",
     "text": [
      "C:\\Users\\hp\\Anaconda3\\lib\\site-packages\\sklearn\\linear_model\\logistic.py:433: FutureWarning: Default solver will be changed to 'lbfgs' in 0.22. Specify a solver to silence this warning.\n",
      "  FutureWarning)\n",
      "C:\\Users\\hp\\Anaconda3\\lib\\site-packages\\sklearn\\utils\\validation.py:761: DataConversionWarning: A column-vector y was passed when a 1d array was expected. Please change the shape of y to (n_samples, ), for example using ravel().\n",
      "  y = column_or_1d(y, warn=True)\n"
     ]
    },
    {
     "name": "stdout",
     "output_type": "stream",
     "text": [
      "              precision    recall  f1-score   support\n",
      "\n",
      "           0       0.75      0.71      0.73       126\n",
      "           1       0.80      0.83      0.82       178\n",
      "\n",
      "   micro avg       0.78      0.78      0.78       304\n",
      "   macro avg       0.77      0.77      0.77       304\n",
      "weighted avg       0.78      0.78      0.78       304\n",
      "\n",
      "[[ 89  37]\n",
      " [ 30 148]]\n",
      "accuracy is 0.7796052631578947\n"
     ]
    }
   ],
   "source": [
    "from sklearn.linear_model import LogisticRegression\n",
    "classifier = LogisticRegression()\n",
    "classifier.fit(X_train, Y_train)\n",
    "\n",
    "Y_pred = classifier.predict(X_test)\n",
    "\n",
    "# Summary of the predictions made by the classifier\n",
    "print(classification_report(Y_test, Y_pred))\n",
    "print(confusion_matrix(Y_test, Y_pred))\n",
    "\n",
    "#Accuracy score\n",
    "from sklearn.metrics import accuracy_score\n",
    "print('accuracy is', accuracy_score(Y_pred, Y_test))"
   ]
  },
  {
   "cell_type": "markdown",
   "metadata": {},
   "source": [
    "# Decision Tree"
   ]
  },
  {
   "cell_type": "code",
   "execution_count": 17,
   "metadata": {},
   "outputs": [
    {
     "name": "stdout",
     "output_type": "stream",
     "text": [
      "              precision    recall  f1-score   support\n",
      "\n",
      "           0       0.72      0.75      0.74       126\n",
      "           1       0.82      0.79      0.81       178\n",
      "\n",
      "   micro avg       0.78      0.78      0.78       304\n",
      "   macro avg       0.77      0.77      0.77       304\n",
      "weighted avg       0.78      0.78      0.78       304\n",
      "\n",
      "[[ 95  31]\n",
      " [ 37 141]]\n",
      "accuracy is 0.7763157894736842\n"
     ]
    },
    {
     "name": "stderr",
     "output_type": "stream",
     "text": [
      "C:\\Users\\hp\\Anaconda3\\lib\\site-packages\\sklearn\\tree\\tree.py:283: DeprecationWarning: The min_impurity_split parameter is deprecated. Its default value will change from 1e-7 to 0 in version 0.23, and it will be removed in 0.25. Use the min_impurity_decrease parameter instead.\n",
      "  DeprecationWarning)\n"
     ]
    }
   ],
   "source": [
    "## Decision Tree\n",
    "from sklearn.tree import DecisionTreeClassifier \n",
    "classifier = DecisionTreeClassifier(class_weight=None, criterion='gini', max_depth=None,\n",
    "                                   max_features=None, max_leaf_nodes=None,\n",
    "                                   min_impurity_split=1e-07, min_samples_leaf=1,\n",
    "                                   min_samples_split=2, random_state=None, splitter='best')\n",
    "classifier.fit(X_train, Y_train)\n",
    "Y_pred = classifier.predict(X_test)\n",
    "\n",
    "# Summary of the predictions made by the classifier\n",
    "print(classification_report(Y_test, Y_pred))\n",
    "print(confusion_matrix(Y_test, Y_pred))\n",
    "\n",
    "#Accuracy score\n",
    "from sklearn.metrics import accuracy_score\n",
    "print('accuracy is', accuracy_score(Y_pred, Y_test))"
   ]
  },
  {
   "cell_type": "markdown",
   "metadata": {},
   "source": [
    "# Random Forest"
   ]
  },
  {
   "cell_type": "code",
   "execution_count": 18,
   "metadata": {},
   "outputs": [
    {
     "name": "stdout",
     "output_type": "stream",
     "text": [
      "              precision    recall  f1-score   support\n",
      "\n",
      "           0       0.67      0.75      0.71       126\n",
      "           1       0.81      0.74      0.77       178\n",
      "\n",
      "   micro avg       0.74      0.74      0.74       304\n",
      "   macro avg       0.74      0.74      0.74       304\n",
      "weighted avg       0.75      0.74      0.75       304\n",
      "\n",
      "[[ 95  31]\n",
      " [ 47 131]]\n",
      "accuracy is 0.743421052631579\n"
     ]
    },
    {
     "name": "stderr",
     "output_type": "stream",
     "text": [
      "C:\\Users\\hp\\Anaconda3\\lib\\site-packages\\sklearn\\ensemble\\forest.py:246: FutureWarning: The default value of n_estimators will change from 10 in version 0.20 to 100 in 0.22.\n",
      "  \"10 in version 0.20 to 100 in 0.22.\", FutureWarning)\n",
      "C:\\Users\\hp\\Anaconda3\\lib\\site-packages\\ipykernel_launcher.py:3: DataConversionWarning: A column-vector y was passed when a 1d array was expected. Please change the shape of y to (n_samples,), for example using ravel().\n",
      "  This is separate from the ipykernel package so we can avoid doing imports until\n"
     ]
    }
   ],
   "source": [
    "from sklearn.ensemble import RandomForestClassifier\n",
    "classifier = RandomForestClassifier()\n",
    "classifier.fit(X_train, Y_train)\n",
    "Y_pred = classifier.predict(X_test)\n",
    "\n",
    "# Summary of the predictions made by the classifier\n",
    "print(classification_report(Y_test, Y_pred))\n",
    "print(confusion_matrix(Y_test, Y_pred))\n",
    "\n",
    "#Accuracy score\n",
    "from sklearn.metrics import accuracy_score\n",
    "print('accuracy is', accuracy_score(Y_pred, Y_test))"
   ]
  },
  {
   "cell_type": "markdown",
   "metadata": {},
   "source": [
    "# KNN"
   ]
  },
  {
   "cell_type": "code",
   "execution_count": 23,
   "metadata": {},
   "outputs": [
    {
     "name": "stderr",
     "output_type": "stream",
     "text": [
      "C:\\Users\\hp\\Anaconda3\\lib\\site-packages\\ipykernel_launcher.py:7: DataConversionWarning: A column-vector y was passed when a 1d array was expected. Please change the shape of y to (n_samples, ), for example using ravel().\n",
      "  import sys\n"
     ]
    },
    {
     "data": {
      "text/plain": [
       "array([[101,  25],\n",
       "       [ 43, 135]], dtype=int64)"
      ]
     },
     "execution_count": 23,
     "metadata": {},
     "output_type": "execute_result"
    }
   ],
   "source": [
    "from sklearn.neighbors import KNeighborsClassifier\n",
    "from sklearn.model_selection import cross_val_score\n",
    "# Instantiate Learning Model (k=39)\n",
    "classifier = KNeighborsClassifier(n_neighbors=39)\n",
    "\n",
    "# Fitting the model\n",
    "classifier.fit(X_train, Y_train)\n",
    "\n",
    "# Predicting the Test set results\n",
    "Y_pred = classifier.predict(X_test)\n",
    "\n",
    "# Confusion Matrix\n",
    "cm = confusion_matrix(Y_test, Y_pred)\n",
    "cm"
   ]
  },
  {
   "cell_type": "code",
   "execution_count": 24,
   "metadata": {},
   "outputs": [
    {
     "name": "stdout",
     "output_type": "stream",
     "text": [
      "Accuracy of our model is equal: 77.63%\n"
     ]
    }
   ],
   "source": [
    "accuracy = accuracy_score(Y_test, Y_pred)* 100\n",
    "print('Accuracy of our model is equal: ' + str(round(accuracy, 2)) + '%')"
   ]
  },
  {
   "cell_type": "code",
   "execution_count": 25,
   "metadata": {},
   "outputs": [
    {
     "name": "stderr",
     "output_type": "stream",
     "text": [
      "C:\\Users\\hp\\Anaconda3\\lib\\site-packages\\ipykernel_launcher.py:6: DataConversionWarning: A column-vector y was passed when a 1d array was expected. Please change the shape of y to (n_samples, ), for example using ravel().\n",
      "  \n",
      "C:\\Users\\hp\\Anaconda3\\lib\\site-packages\\ipykernel_launcher.py:6: DataConversionWarning: A column-vector y was passed when a 1d array was expected. Please change the shape of y to (n_samples, ), for example using ravel().\n",
      "  \n",
      "C:\\Users\\hp\\Anaconda3\\lib\\site-packages\\ipykernel_launcher.py:6: DataConversionWarning: A column-vector y was passed when a 1d array was expected. Please change the shape of y to (n_samples, ), for example using ravel().\n",
      "  \n",
      "C:\\Users\\hp\\Anaconda3\\lib\\site-packages\\ipykernel_launcher.py:6: DataConversionWarning: A column-vector y was passed when a 1d array was expected. Please change the shape of y to (n_samples, ), for example using ravel().\n",
      "  \n",
      "C:\\Users\\hp\\Anaconda3\\lib\\site-packages\\ipykernel_launcher.py:6: DataConversionWarning: A column-vector y was passed when a 1d array was expected. Please change the shape of y to (n_samples, ), for example using ravel().\n",
      "  \n",
      "C:\\Users\\hp\\Anaconda3\\lib\\site-packages\\ipykernel_launcher.py:6: DataConversionWarning: A column-vector y was passed when a 1d array was expected. Please change the shape of y to (n_samples, ), for example using ravel().\n",
      "  \n",
      "C:\\Users\\hp\\Anaconda3\\lib\\site-packages\\ipykernel_launcher.py:6: DataConversionWarning: A column-vector y was passed when a 1d array was expected. Please change the shape of y to (n_samples, ), for example using ravel().\n",
      "  \n",
      "C:\\Users\\hp\\Anaconda3\\lib\\site-packages\\ipykernel_launcher.py:6: DataConversionWarning: A column-vector y was passed when a 1d array was expected. Please change the shape of y to (n_samples, ), for example using ravel().\n",
      "  \n",
      "C:\\Users\\hp\\Anaconda3\\lib\\site-packages\\ipykernel_launcher.py:6: DataConversionWarning: A column-vector y was passed when a 1d array was expected. Please change the shape of y to (n_samples, ), for example using ravel().\n",
      "  \n",
      "C:\\Users\\hp\\Anaconda3\\lib\\site-packages\\ipykernel_launcher.py:6: DataConversionWarning: A column-vector y was passed when a 1d array was expected. Please change the shape of y to (n_samples, ), for example using ravel().\n",
      "  \n",
      "C:\\Users\\hp\\Anaconda3\\lib\\site-packages\\ipykernel_launcher.py:6: DataConversionWarning: A column-vector y was passed when a 1d array was expected. Please change the shape of y to (n_samples, ), for example using ravel().\n",
      "  \n",
      "C:\\Users\\hp\\Anaconda3\\lib\\site-packages\\ipykernel_launcher.py:6: DataConversionWarning: A column-vector y was passed when a 1d array was expected. Please change the shape of y to (n_samples, ), for example using ravel().\n",
      "  \n",
      "C:\\Users\\hp\\Anaconda3\\lib\\site-packages\\ipykernel_launcher.py:6: DataConversionWarning: A column-vector y was passed when a 1d array was expected. Please change the shape of y to (n_samples, ), for example using ravel().\n",
      "  \n",
      "C:\\Users\\hp\\Anaconda3\\lib\\site-packages\\ipykernel_launcher.py:6: DataConversionWarning: A column-vector y was passed when a 1d array was expected. Please change the shape of y to (n_samples, ), for example using ravel().\n",
      "  \n",
      "C:\\Users\\hp\\Anaconda3\\lib\\site-packages\\ipykernel_launcher.py:6: DataConversionWarning: A column-vector y was passed when a 1d array was expected. Please change the shape of y to (n_samples, ), for example using ravel().\n",
      "  \n",
      "C:\\Users\\hp\\Anaconda3\\lib\\site-packages\\ipykernel_launcher.py:6: DataConversionWarning: A column-vector y was passed when a 1d array was expected. Please change the shape of y to (n_samples, ), for example using ravel().\n",
      "  \n",
      "C:\\Users\\hp\\Anaconda3\\lib\\site-packages\\ipykernel_launcher.py:6: DataConversionWarning: A column-vector y was passed when a 1d array was expected. Please change the shape of y to (n_samples, ), for example using ravel().\n",
      "  \n",
      "C:\\Users\\hp\\Anaconda3\\lib\\site-packages\\ipykernel_launcher.py:6: DataConversionWarning: A column-vector y was passed when a 1d array was expected. Please change the shape of y to (n_samples, ), for example using ravel().\n",
      "  \n",
      "C:\\Users\\hp\\Anaconda3\\lib\\site-packages\\ipykernel_launcher.py:6: DataConversionWarning: A column-vector y was passed when a 1d array was expected. Please change the shape of y to (n_samples, ), for example using ravel().\n",
      "  \n",
      "C:\\Users\\hp\\Anaconda3\\lib\\site-packages\\ipykernel_launcher.py:6: DataConversionWarning: A column-vector y was passed when a 1d array was expected. Please change the shape of y to (n_samples, ), for example using ravel().\n",
      "  \n",
      "C:\\Users\\hp\\Anaconda3\\lib\\site-packages\\ipykernel_launcher.py:6: DataConversionWarning: A column-vector y was passed when a 1d array was expected. Please change the shape of y to (n_samples, ), for example using ravel().\n",
      "  \n",
      "C:\\Users\\hp\\Anaconda3\\lib\\site-packages\\ipykernel_launcher.py:6: DataConversionWarning: A column-vector y was passed when a 1d array was expected. Please change the shape of y to (n_samples, ), for example using ravel().\n",
      "  \n",
      "C:\\Users\\hp\\Anaconda3\\lib\\site-packages\\ipykernel_launcher.py:6: DataConversionWarning: A column-vector y was passed when a 1d array was expected. Please change the shape of y to (n_samples, ), for example using ravel().\n",
      "  \n",
      "C:\\Users\\hp\\Anaconda3\\lib\\site-packages\\ipykernel_launcher.py:6: DataConversionWarning: A column-vector y was passed when a 1d array was expected. Please change the shape of y to (n_samples, ), for example using ravel().\n",
      "  \n",
      "C:\\Users\\hp\\Anaconda3\\lib\\site-packages\\ipykernel_launcher.py:6: DataConversionWarning: A column-vector y was passed when a 1d array was expected. Please change the shape of y to (n_samples, ), for example using ravel().\n",
      "  \n",
      "C:\\Users\\hp\\Anaconda3\\lib\\site-packages\\ipykernel_launcher.py:6: DataConversionWarning: A column-vector y was passed when a 1d array was expected. Please change the shape of y to (n_samples, ), for example using ravel().\n",
      "  \n",
      "C:\\Users\\hp\\Anaconda3\\lib\\site-packages\\ipykernel_launcher.py:6: DataConversionWarning: A column-vector y was passed when a 1d array was expected. Please change the shape of y to (n_samples, ), for example using ravel().\n",
      "  \n",
      "C:\\Users\\hp\\Anaconda3\\lib\\site-packages\\ipykernel_launcher.py:6: DataConversionWarning: A column-vector y was passed when a 1d array was expected. Please change the shape of y to (n_samples, ), for example using ravel().\n",
      "  \n",
      "C:\\Users\\hp\\Anaconda3\\lib\\site-packages\\ipykernel_launcher.py:6: DataConversionWarning: A column-vector y was passed when a 1d array was expected. Please change the shape of y to (n_samples, ), for example using ravel().\n",
      "  \n",
      "C:\\Users\\hp\\Anaconda3\\lib\\site-packages\\ipykernel_launcher.py:6: DataConversionWarning: A column-vector y was passed when a 1d array was expected. Please change the shape of y to (n_samples, ), for example using ravel().\n",
      "  \n",
      "C:\\Users\\hp\\Anaconda3\\lib\\site-packages\\ipykernel_launcher.py:6: DataConversionWarning: A column-vector y was passed when a 1d array was expected. Please change the shape of y to (n_samples, ), for example using ravel().\n",
      "  \n",
      "C:\\Users\\hp\\Anaconda3\\lib\\site-packages\\ipykernel_launcher.py:6: DataConversionWarning: A column-vector y was passed when a 1d array was expected. Please change the shape of y to (n_samples, ), for example using ravel().\n",
      "  \n",
      "C:\\Users\\hp\\Anaconda3\\lib\\site-packages\\ipykernel_launcher.py:6: DataConversionWarning: A column-vector y was passed when a 1d array was expected. Please change the shape of y to (n_samples, ), for example using ravel().\n",
      "  \n",
      "C:\\Users\\hp\\Anaconda3\\lib\\site-packages\\ipykernel_launcher.py:6: DataConversionWarning: A column-vector y was passed when a 1d array was expected. Please change the shape of y to (n_samples, ), for example using ravel().\n",
      "  \n",
      "C:\\Users\\hp\\Anaconda3\\lib\\site-packages\\ipykernel_launcher.py:6: DataConversionWarning: A column-vector y was passed when a 1d array was expected. Please change the shape of y to (n_samples, ), for example using ravel().\n",
      "  \n",
      "C:\\Users\\hp\\Anaconda3\\lib\\site-packages\\ipykernel_launcher.py:6: DataConversionWarning: A column-vector y was passed when a 1d array was expected. Please change the shape of y to (n_samples, ), for example using ravel().\n",
      "  \n",
      "C:\\Users\\hp\\Anaconda3\\lib\\site-packages\\ipykernel_launcher.py:6: DataConversionWarning: A column-vector y was passed when a 1d array was expected. Please change the shape of y to (n_samples, ), for example using ravel().\n",
      "  \n",
      "C:\\Users\\hp\\Anaconda3\\lib\\site-packages\\ipykernel_launcher.py:6: DataConversionWarning: A column-vector y was passed when a 1d array was expected. Please change the shape of y to (n_samples, ), for example using ravel().\n",
      "  \n",
      "C:\\Users\\hp\\Anaconda3\\lib\\site-packages\\ipykernel_launcher.py:6: DataConversionWarning: A column-vector y was passed when a 1d array was expected. Please change the shape of y to (n_samples, ), for example using ravel().\n",
      "  \n",
      "C:\\Users\\hp\\Anaconda3\\lib\\site-packages\\ipykernel_launcher.py:6: DataConversionWarning: A column-vector y was passed when a 1d array was expected. Please change the shape of y to (n_samples, ), for example using ravel().\n",
      "  \n"
     ]
    },
    {
     "name": "stderr",
     "output_type": "stream",
     "text": [
      "C:\\Users\\hp\\Anaconda3\\lib\\site-packages\\ipykernel_launcher.py:6: DataConversionWarning: A column-vector y was passed when a 1d array was expected. Please change the shape of y to (n_samples, ), for example using ravel().\n",
      "  \n",
      "C:\\Users\\hp\\Anaconda3\\lib\\site-packages\\ipykernel_launcher.py:6: DataConversionWarning: A column-vector y was passed when a 1d array was expected. Please change the shape of y to (n_samples, ), for example using ravel().\n",
      "  \n",
      "C:\\Users\\hp\\Anaconda3\\lib\\site-packages\\ipykernel_launcher.py:6: DataConversionWarning: A column-vector y was passed when a 1d array was expected. Please change the shape of y to (n_samples, ), for example using ravel().\n",
      "  \n",
      "C:\\Users\\hp\\Anaconda3\\lib\\site-packages\\ipykernel_launcher.py:6: DataConversionWarning: A column-vector y was passed when a 1d array was expected. Please change the shape of y to (n_samples, ), for example using ravel().\n",
      "  \n",
      "C:\\Users\\hp\\Anaconda3\\lib\\site-packages\\ipykernel_launcher.py:6: DataConversionWarning: A column-vector y was passed when a 1d array was expected. Please change the shape of y to (n_samples, ), for example using ravel().\n",
      "  \n",
      "C:\\Users\\hp\\Anaconda3\\lib\\site-packages\\ipykernel_launcher.py:6: DataConversionWarning: A column-vector y was passed when a 1d array was expected. Please change the shape of y to (n_samples, ), for example using ravel().\n",
      "  \n",
      "C:\\Users\\hp\\Anaconda3\\lib\\site-packages\\ipykernel_launcher.py:6: DataConversionWarning: A column-vector y was passed when a 1d array was expected. Please change the shape of y to (n_samples, ), for example using ravel().\n",
      "  \n",
      "C:\\Users\\hp\\Anaconda3\\lib\\site-packages\\ipykernel_launcher.py:6: DataConversionWarning: A column-vector y was passed when a 1d array was expected. Please change the shape of y to (n_samples, ), for example using ravel().\n",
      "  \n",
      "C:\\Users\\hp\\Anaconda3\\lib\\site-packages\\ipykernel_launcher.py:6: DataConversionWarning: A column-vector y was passed when a 1d array was expected. Please change the shape of y to (n_samples, ), for example using ravel().\n",
      "  \n"
     ]
    }
   ],
   "source": [
    "error_rate = []\n",
    "\n",
    "# K\n",
    "for i in range(1,50):\n",
    "    knn = KNeighborsClassifier(n_neighbors=i)\n",
    "    knn.fit(X_train, Y_train)\n",
    "    pred_i = knn.predict(X_test)\n",
    "    error_rate.append(np.mean(pred_i != Y_test))"
   ]
  },
  {
   "cell_type": "code",
   "execution_count": 26,
   "metadata": {},
   "outputs": [
    {
     "data": {
      "text/plain": [
       "Text(0, 0.5, 'Error rate')"
      ]
     },
     "execution_count": 26,
     "metadata": {},
     "output_type": "execute_result"
    },
    {
     "data": {
      "text/plain": [
       "<Figure size 432x288 with 0 Axes>"
      ]
     },
     "metadata": {},
     "output_type": "display_data"
    },
    {
     "data": {
      "image/png": "[encoded data removed]",
      "text/plain": [
       "<Figure size 1080x1440 with 1 Axes>"
      ]
     },
     "metadata": {
      "needs_background": "light"
     },
     "output_type": "display_data"
    }
   ],
   "source": [
    "import matplotlib.pyplot as plt\n",
    "plt.figure()\n",
    "plt.figure(figsize=(15,20))\n",
    "plt.plot(range(1,50), error_rate, color='blue', linestyle='dashed',marker='o', markerfacecolor='red',markersize=10)\n",
    "plt.title('Error_rate vs k-value')\n",
    "plt.xlabel('k')\n",
    "plt.ylabel('Error rate')"
   ]
  }
 ],
 "metadata": {
  "kernelspec": {
   "display_name": "Python 3",
   "language": "python",
   "name": "python3"
  },
  "language_info": {
   "codemirror_mode": {
    "name": "ipython",
    "version": 3
   },
   "file_extension": ".py",
   "mimetype": "text/x-python",
   "name": "python",
   "nbconvert_exporter": "python",
   "pygments_lexer": "ipython3",
   "version": "3.7.3"
  },
  "toc": {
   "base_numbering": 1,
   "nav_menu": {},
   "number_sections": true,
   "sideBar": true,
   "skip_h1_title": false,
   "title_cell": "Table of Contents",
   "title_sidebar": "Contents",
   "toc_cell": false,
   "toc_position": {},
   "toc_section_display": true,
   "toc_window_display": false
  },
  "varInspector": {
   "cols": {
    "lenName": 16,
    "lenType": 16,
    "lenVar": 40
   },
   "kernels_config": {
    "python": {
     "delete_cmd_postfix": "",
     "delete_cmd_prefix": "del ",
     "library": "var_list.py",
     "varRefreshCmd": "print(var_dic_list())"
    },
    "r": {
     "delete_cmd_postfix": ") ",
     "delete_cmd_prefix": "rm(",
     "library": "var_list.r",
     "varRefreshCmd": "cat(var_dic_list()) "
    }
   },
   "types_to_exclude": [
    "module",
    "function",
    "builtin_function_or_method",
    "instance",
    "_Feature"
   ],
   "window_display": false
  }
 },
 "nbformat": 4,
 "nbformat_minor": 2
}
